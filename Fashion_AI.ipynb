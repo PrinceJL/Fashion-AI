{
 "cells": [
  {
   "cell_type": "code",
   "execution_count": 1,
   "id": "960f10c6-b518-44fb-8ec7-96a9b5670376",
   "metadata": {},
   "outputs": [],
   "source": [
    "# Import necessary libraries\n",
    "import os                       # Operating system interface for file operations\n",
    "import numpy as np              # Numerical computing library\n",
    "from PIL import Image           # Python Imaging Library for image processing\n",
    "from tqdm import tqdm           # Progress bar utility for loops\n",
    "from sklearn.model_selection import train_test_split  # For splitting data into train/test sets\n",
    "\n",
    "# Import TensorFlow and Keras components\n",
    "import tensorflow as tf         # Machine learning framework\n",
    "from tensorflow.keras.models import Sequential  # For creating sequential neural network models\n",
    "from tensorflow.keras.layers import Conv2D, MaxPooling2D, Flatten, Dense  # Neural network layer types\n",
    "from tensorflow.keras.optimizers import Adam    # Optimization algorithm for training"
   ]
  },
  {
   "cell_type": "code",
   "execution_count": 2,
   "id": "df4ee70f-070b-4c9d-9bc7-572da98cf6b7",
   "metadata": {},
   "outputs": [],
   "source": [
    "# Define the save directory for models, data, and logs\n",
    "save_dir = \"./fashion_ai_model_data\"  # Set this to a folder on your local machine\n",
    "os.makedirs(save_dir, exist_ok=True)\n",
    "\n",
    "# Path to your dataset\n",
    "image_dir = \"DeepFashionData/images\"  # Change this to your actual image folder path\n",
    "shape_labels_path = \"DeepFashionData/labels/shape/shape_anno_all.txt\"  # Change this to your shape labels file path"
   ]
  },
  {
   "cell_type": "code",
   "execution_count": 3,
   "id": "575c1d06-7a17-4c03-8c13-c52d9131c11e",
   "metadata": {},
   "outputs": [],
   "source": [
    "# Load shape labels\n",
    "shape_labels = {}\n",
    "with open(shape_labels_path) as f:\n",
    "    for line in f:\n",
    "        parts = line.strip().split()\n",
    "        img_name = parts[0]\n",
    "        shape_labels[img_name] = list(map(int, parts[1:]))\n",
    "\n",
    "# Define the target size for resizing images\n",
    "target_size = (224, 224)"
   ]
  },
  {
   "cell_type": "code",
   "execution_count": 4,
   "id": "73616817-b2ff-4550-af72-e280f136179c",
   "metadata": {},
   "outputs": [],
   "source": [
    "# Load and preprocess images (using 10% of the data for testing purposes)\n",
    "X = []  # Images\n",
    "y = []  # Shape labels"
   ]
  },
  {
   "cell_type": "code",
   "execution_count": null,
   "id": "dbe1323c-1b14-459b-96b4-eea551a565c3",
   "metadata": {},
   "outputs": [
    {
     "name": "stderr",
     "output_type": "stream",
     "text": [
      " 83%|████████▎ | 35124/42544 [12:54<02:45, 44.85it/s]"
     ]
    }
   ],
   "source": [
    "sample_size = int(len(shape_labels) * 1)  # Use 10% of the dataset for quick testing\n",
    "\n",
    "for img_name, shape in tqdm(list(shape_labels.items())[:sample_size]):\n",
    "    img_path = os.path.join(image_dir, img_name)\n",
    "    try:\n",
    "        img = Image.open(img_path).convert(\"RGB\")\n",
    "        img = img.resize(target_size)  # Resize image to 224x224\n",
    "        X.append(np.array(img) / 255.0)  # Normalize image to [0, 1]\n",
    "        y.append(shape)\n",
    "    except Exception as e:\n",
    "        print(f\"Error loading 2 {img_name}: {e}\")\n",
    "        continue  # Skip unreadable images\n",
    "\n",
    "X = np.array(X)\n",
    "y = np.array(y)"
   ]
  },
  {
   "cell_type": "code",
   "execution_count": null,
   "id": "a684d048-52be-4f72-8905-350c70fcaae1",
   "metadata": {},
   "outputs": [],
   "source": [
    "# Save processed data (images and labels)\n",
    "np.save(os.path.join(save_dir, 'X.npy'), X)\n",
    "np.save(os.path.join(save_dir, 'y.npy'), y)\n",
    "print(f\"Processed data saved to {save_dir}\")"
   ]
  },
  {
   "cell_type": "code",
   "execution_count": null,
   "id": "62b66588-66d8-4ca9-9165-cea90b8d036a",
   "metadata": {},
   "outputs": [],
   "source": [
    "# Split the data into training and testing sets\n",
    "X_train, X_test, y_train, y_test = train_test_split(X, y, test_size=0.2, random_state=42)\n",
    "\n",
    "# Save training and testing data\n",
    "np.save(os.path.join(save_dir, 'X_train.npy'), X_train)\n",
    "np.save(os.path.join(save_dir, 'X_test.npy'), X_test)\n",
    "np.save(os.path.join(save_dir, 'y_train.npy'), y_train)\n",
    "np.save(os.path.join(save_dir, 'y_test.npy'), y_test)\n",
    "print(f\"Train and test data saved to {save_dir}\")"
   ]
  },
  {
   "cell_type": "code",
   "execution_count": null,
   "id": "3445b18a-be2d-4e00-883a-ea493cb24788",
   "metadata": {},
   "outputs": [],
   "source": [
    "# Assistant\n",
    "# Define the CNN model\n",
    "model = Sequential([\n",
    "    # First convolutional layer with 32 filters of size 3x3, ReLU activation\n",
    "    # Input shape expects images of size 224x224 with 3 color channels (RGB)\n",
    "    Conv2D(32, (3, 3), activation='relu', input_shape=(224, 224, 3)),\n",
    "    # Max pooling layer to reduce spatial dimensions by half\n",
    "    MaxPooling2D(2, 2),\n",
    "    # Second convolutional layer with 64 filters of size 3x3, ReLU activation\n",
    "    Conv2D(64, (3, 3), activation='relu'),\n",
    "    # Another max pooling layer to further reduce dimensions\n",
    "    MaxPooling2D(2, 2),\n",
    "    # Flatten the 2D feature maps to 1D feature vectors\n",
    "    Flatten(),\n",
    "    # Fully connected layer with 128 neurons and ReLU activation\n",
    "    Dense(128, activation='relu'),\n",
    "    # Output layer with neurons matching the number of classes\n",
    "    # Softmax activation for multi-class classification probability distribution\n",
    "    Dense(len(y[0]), activation='softmax')  # Adjust the output layer based on the number of labels\n",
    "])"
   ]
  },
  {
   "cell_type": "code",
   "execution_count": null,
   "id": "62bbc835-fcd9-4242-8bf7-a5bdd35f4968",
   "metadata": {},
   "outputs": [],
   "source": [
    "optimizer = Adam(learning_rate=0.0001)\n",
    "\n",
    "# Compile the model\n",
    "model.compile(optimizer=optimizer, loss='categorical_crossentropy', metrics=['accuracy'])\n",
    "\n",
    "# Save the model after every few epochs\n",
    "epochs = 10\n",
    "for epoch in range(epochs):\n",
    "    print(f\"Training epoch {epoch+1}/{epochs}\")\n",
    "    model.fit(X_train, y_train, epochs=1, batch_size=32, validation_data=(X_test, y_test))\n",
    "\n",
    "    # Save the model after each epoch\n",
    "    model.save(os.path.join(save_dir, f\"fashion_ai_model_epoch_{epoch+1}.keras\"))\n",
    "    print(f\"Model saved after epoch {epoch+1}\")\n"
   ]
  },
  {
   "cell_type": "code",
   "execution_count": null,
   "id": "3cf8e962-88bb-4a76-bb6a-2ecb2c90d5b6",
   "metadata": {},
   "outputs": [],
   "source": []
  }
 ],
 "metadata": {
  "kernelspec": {
   "display_name": "Python [conda env:base] *",
   "language": "python",
   "name": "conda-base-py"
  },
  "language_info": {
   "codemirror_mode": {
    "name": "ipython",
    "version": 3
   },
   "file_extension": ".py",
   "mimetype": "text/x-python",
   "name": "python",
   "nbconvert_exporter": "python",
   "pygments_lexer": "ipython3",
   "version": "3.12.3"
  }
 },
 "nbformat": 4,
 "nbformat_minor": 5
}
