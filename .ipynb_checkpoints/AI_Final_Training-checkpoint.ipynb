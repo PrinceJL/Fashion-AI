{
 "cells": [
  {
   "cell_type": "code",
   "execution_count": 1,
   "id": "cecdb798-e39f-4635-8806-35ea296e563d",
   "metadata": {},
   "outputs": [],
   "source": [
    "# Fashion Recognition Model (Shape, Fabric, Color)\n",
    "\n",
    "import os\n",
    "import torch\n",
    "import torch.nn as nn\n",
    "from torch.utils.data import Dataset, DataLoader, random_split\n",
    "from torchvision import transforms, models\n",
    "from PIL import Image\n",
    "import matplotlib.pyplot as plt"
   ]
  },
  {
   "cell_type": "code",
   "execution_count": 2,
   "id": "c72f2271-d1a6-4e01-abc9-e1727ffc1994",
   "metadata": {},
   "outputs": [],
   "source": [
    "# 1. Constants\n",
    "IMG_DIR = '../DeepFashionData/images'\n",
    "SHAPE_PATH = '../DeepFashionData/labels/shape/shape_anno_all.txt'\n",
    "FABRIC_PATH = '../DeepFashionData/labels/texture/fabric_ann.txt'\n",
    "PATTERN_PATH = '../DeepFashionData/labels/texture/pattern_ann.txt'\n",
    "SEGM_DIR = '../DeepFashionData/segm'\n",
    "\n",
    "SHAPE_ATTR_CLASSES = [6, 5, 4, 3, 5, 3, 3, 3, 5, 7, 3, 3]\n",
    "FABRIC_CLASSES = 8\n",
    "PATTERN_CLASSES = 8"
   ]
  },
  {
   "cell_type": "code",
   "execution_count": 3,
   "id": "6589c532-c667-438e-9f23-76eeebd05ebf",
   "metadata": {},
   "outputs": [],
   "source": [
    "# 2. Label Loading Functions\n",
    "def load_shape_labels(path):\n",
    "    labels = {}\n",
    "    with open(path, 'r') as f:\n",
    "        for line in f:\n",
    "            parts = line.strip().split()\n",
    "            name = parts[0]\n",
    "            attrs = list(map(int, parts[1:]))\n",
    "            labels[name] = attrs\n",
    "    return labels\n",
    "\n",
    "def load_triplet_labels(path):\n",
    "    labels = {}\n",
    "    with open(path, 'r') as f:\n",
    "        for line in f:\n",
    "            parts = line.strip().split()\n",
    "            name = parts[0]\n",
    "            labels[name] = list(map(int, parts[1:]))\n",
    "    return labels"
   ]
  },
  {
   "cell_type": "code",
   "execution_count": 4,
   "id": "e80c531d-0597-41e4-9584-733fab4c466b",
   "metadata": {},
   "outputs": [],
   "source": [
    "# 3. Custom Dataset\n",
    "class FashionDataset(Dataset):\n",
    "    def __init__(self, img_dir, segm_dir, shape_labels, fabric_labels, pattern_labels, transform=None):\n",
    "        self.img_dir = img_dir\n",
    "        self.segm_dir = segm_dir\n",
    "        self.shape_labels = shape_labels\n",
    "        self.fabric_labels = fabric_labels\n",
    "        self.pattern_labels = pattern_labels\n",
    "        self.transform = transform\n",
    "\n",
    "        self.filenames = [f for f in shape_labels.keys() if f in fabric_labels and f in pattern_labels\n",
    "                           and os.path.exists(os.path.join(segm_dir, f.replace('.jpg', '_segm.png')))]\n",
    "\n",
    "    def __len__(self):\n",
    "        return len(self.filenames)\n",
    "\n",
    "    def __getitem__(self, idx):\n",
    "        name = self.filenames[idx]\n",
    "        img_path = os.path.join(self.img_dir, name)\n",
    "        image = Image.open(img_path).convert('RGB')\n",
    "        if self.transform:\n",
    "            image = self.transform(image)\n",
    "\n",
    "        shape = torch.tensor(self.shape_labels[name], dtype=torch.long)\n",
    "        fabric = torch.tensor(self.fabric_labels[name], dtype=torch.long)\n",
    "        pattern = torch.tensor(self.pattern_labels[name], dtype=torch.long)\n",
    "\n",
    "        return image, {'shape': shape, 'fabric': fabric, 'pattern': pattern, 'filename': name}\n"
   ]
  },
  {
   "cell_type": "code",
   "execution_count": 5,
   "id": "44f5f078-dd40-41b6-a9f3-7b6bd926c4c3",
   "metadata": {},
   "outputs": [],
   "source": [
    "# 4. Model\n",
    "class FashionRecognitionModel(nn.Module):\n",
    "    def __init__(self):\n",
    "        super().__init__()\n",
    "        base = models.resnet50(pretrained=True)\n",
    "        self.backbone = nn.Sequential(*list(base.children())[:-2])\n",
    "        self.pool = nn.AdaptiveAvgPool2d((1, 1))\n",
    "        self.flat = nn.Flatten()\n",
    "\n",
    "        self.shape_heads = nn.ModuleList([nn.Linear(2048, c) for c in SHAPE_ATTR_CLASSES])\n",
    "        self.fabric_heads = nn.ModuleList([nn.Linear(2048, FABRIC_CLASSES) for _ in range(3)])\n",
    "        self.pattern_heads = nn.ModuleList([nn.Linear(2048, PATTERN_CLASSES) for _ in range(3)])\n",
    "\n",
    "    def forward(self, x):\n",
    "        x = self.backbone(x)\n",
    "        x = self.pool(x)\n",
    "        x = self.flat(x)\n",
    "        shape_out = [head(x) for head in self.shape_heads]\n",
    "        fabric_out = [head(x) for head in self.fabric_heads]\n",
    "        pattern_out = [head(x) for head in self.pattern_heads]\n",
    "        return {'shape': shape_out, 'fabric': fabric_out, 'pattern': pattern_out}\n"
   ]
  },
  {
   "cell_type": "code",
   "execution_count": 6,
   "id": "9f1af092-caca-4f8f-8700-8635c12aafb9",
   "metadata": {},
   "outputs": [],
   "source": [
    "# 5. Loss Function\n",
    "def compute_loss(preds, targets):\n",
    "    loss_fn = nn.CrossEntropyLoss()\n",
    "    shape_loss = sum(loss_fn(p, t) for p, t in zip(preds['shape'], targets['shape'].T))\n",
    "    fabric_loss = sum(loss_fn(p, t) for p, t in zip(preds['fabric'], targets['fabric'].T))\n",
    "    pattern_loss = sum(loss_fn(p, t) for p, t in zip(preds['pattern'], targets['pattern'].T))\n",
    "    return shape_loss + fabric_loss + pattern_loss\n"
   ]
  },
  {
   "cell_type": "code",
   "execution_count": 7,
   "id": "42c0f96a-9ac0-4fa3-bf0e-3dea99bb4970",
   "metadata": {},
   "outputs": [],
   "source": [
    "# 6. Training Loop\n",
    "def train_model(model, dataloader, optimizer, device):\n",
    "    model.train()\n",
    "    total_loss = 0\n",
    "    for batch_idx, (images, labels) in enumerate(dataloader):\n",
    "        images = images.to(device)\n",
    "        labels = {k: v.to(device) for k, v in labels.items() if k != 'filename'}\n",
    "        optimizer.zero_grad()\n",
    "        outputs = model(images)\n",
    "        loss = compute_loss(outputs, labels)\n",
    "        loss.backward()\n",
    "        optimizer.step()\n",
    "        total_loss += loss.item()\n",
    "\n",
    "        if (batch_idx + 1) % 10 == 0:\n",
    "            print(f\"Batch {batch_idx + 1}/{len(dataloader)}, Loss: {loss.item():.4f}\")\n",
    "\n",
    "    print(f\"Average Training Loss: {total_loss / len(dataloader):.4f}\")\n"
   ]
  },
  {
   "cell_type": "code",
   "execution_count": 8,
   "id": "39a8512f-a240-418d-8390-9d74e6eb1900",
   "metadata": {},
   "outputs": [],
   "source": [
    "# 7. Evaluation Function\n",
    "def evaluate_model(model, dataloader, device):\n",
    "    model.eval()\n",
    "    total = 0\n",
    "    correct = 0\n",
    "    with torch.no_grad():\n",
    "        for images, labels in dataloader:\n",
    "            images = images.to(device)\n",
    "            targets = {k: v.to(device) for k, v in labels.items() if k != 'filename'}\n",
    "            outputs = model(images)\n",
    "            for key in ['shape', 'fabric', 'pattern']:\n",
    "                for pred, target in zip(outputs[key], targets[key].T):\n",
    "                    _, pred_class = torch.max(pred, dim=1)\n",
    "                    correct += (pred_class == target).sum().item()\n",
    "                    total += target.numel()\n",
    "    print(f\"Evaluation Accuracy: {100 * correct / total:.2f}%\")\n"
   ]
  },
  {
   "cell_type": "code",
   "execution_count": 9,
   "id": "cab3f88c-09ea-4894-bc0a-a696656a45fb",
   "metadata": {},
   "outputs": [],
   "source": [
    "# 8. Save and Load\n",
    "\n",
    "def save_model(model, path='fashion_model.pth'):\n",
    "    torch.save(model.state_dict(), path)\n",
    "\n",
    "def load_model(model, path='fashion_model.pth'):\n",
    "    model.load_state_dict(torch.load(path))\n",
    "    model.eval()\n"
   ]
  },
  {
   "cell_type": "code",
   "execution_count": 10,
   "id": "556644f3-e34a-4fc8-b6e0-e907e67ed51c",
   "metadata": {},
   "outputs": [
    {
     "name": "stdout",
     "output_type": "stream",
     "text": [
      "Loading labels...\n",
      "Creating dataset...\n",
      "Total samples: 12694, Train: 11424, Test: 1270\n"
     ]
    },
    {
     "name": "stderr",
     "output_type": "stream",
     "text": [
      "C:\\Users\\Prince\\anaconda3\\Lib\\site-packages\\torchvision\\models\\_utils.py:208: UserWarning: The parameter 'pretrained' is deprecated since 0.13 and may be removed in the future, please use 'weights' instead.\n",
      "  warnings.warn(\n",
      "C:\\Users\\Prince\\anaconda3\\Lib\\site-packages\\torchvision\\models\\_utils.py:223: UserWarning: Arguments other than a weight enum or `None` for 'weights' are deprecated since 0.13 and may be removed in the future. The current behavior is equivalent to passing `weights=ResNet50_Weights.IMAGENET1K_V1`. You can also use `weights=ResNet50_Weights.DEFAULT` to get the most up-to-date weights.\n",
      "  warnings.warn(msg)\n"
     ]
    },
    {
     "name": "stdout",
     "output_type": "stream",
     "text": [
      "\n",
      "Epoch 1/5\n"
     ]
    },
    {
     "ename": "KeyboardInterrupt",
     "evalue": "",
     "output_type": "error",
     "traceback": [
      "\u001b[1;31m---------------------------------------------------------------------------\u001b[0m",
      "\u001b[1;31mKeyboardInterrupt\u001b[0m                         Traceback (most recent call last)",
      "Cell \u001b[1;32mIn[10], line 32\u001b[0m\n\u001b[0;32m     30\u001b[0m \u001b[38;5;28;01mfor\u001b[39;00m epoch \u001b[38;5;129;01min\u001b[39;00m \u001b[38;5;28mrange\u001b[39m(\u001b[38;5;241m5\u001b[39m):\n\u001b[0;32m     31\u001b[0m     \u001b[38;5;28mprint\u001b[39m(\u001b[38;5;124mf\u001b[39m\u001b[38;5;124m\"\u001b[39m\u001b[38;5;130;01m\\n\u001b[39;00m\u001b[38;5;124mEpoch \u001b[39m\u001b[38;5;132;01m{\u001b[39;00mepoch\u001b[38;5;241m+\u001b[39m\u001b[38;5;241m1\u001b[39m\u001b[38;5;132;01m}\u001b[39;00m\u001b[38;5;124m/5\u001b[39m\u001b[38;5;124m\"\u001b[39m)\n\u001b[1;32m---> 32\u001b[0m     train_model(model, train_loader, optimizer, device)\n\u001b[0;32m     33\u001b[0m     evaluate_model(model, test_loader, device)\n\u001b[0;32m     35\u001b[0m \u001b[38;5;28mprint\u001b[39m(\u001b[38;5;124m\"\u001b[39m\u001b[38;5;124mSaving model...\u001b[39m\u001b[38;5;124m\"\u001b[39m)\n",
      "Cell \u001b[1;32mIn[7], line 10\u001b[0m, in \u001b[0;36mtrain_model\u001b[1;34m(model, dataloader, optimizer, device)\u001b[0m\n\u001b[0;32m      8\u001b[0m outputs \u001b[38;5;241m=\u001b[39m model(images)\n\u001b[0;32m      9\u001b[0m loss \u001b[38;5;241m=\u001b[39m compute_loss(outputs, labels)\n\u001b[1;32m---> 10\u001b[0m loss\u001b[38;5;241m.\u001b[39mbackward()\n\u001b[0;32m     11\u001b[0m optimizer\u001b[38;5;241m.\u001b[39mstep()\n",
      "File \u001b[1;32m~\\anaconda3\\Lib\\site-packages\\torch\\_tensor.py:626\u001b[0m, in \u001b[0;36mTensor.backward\u001b[1;34m(self, gradient, retain_graph, create_graph, inputs)\u001b[0m\n\u001b[0;32m    616\u001b[0m \u001b[38;5;28;01mif\u001b[39;00m has_torch_function_unary(\u001b[38;5;28mself\u001b[39m):\n\u001b[0;32m    617\u001b[0m     \u001b[38;5;28;01mreturn\u001b[39;00m handle_torch_function(\n\u001b[0;32m    618\u001b[0m         Tensor\u001b[38;5;241m.\u001b[39mbackward,\n\u001b[0;32m    619\u001b[0m         (\u001b[38;5;28mself\u001b[39m,),\n\u001b[1;32m   (...)\u001b[0m\n\u001b[0;32m    624\u001b[0m         inputs\u001b[38;5;241m=\u001b[39minputs,\n\u001b[0;32m    625\u001b[0m     )\n\u001b[1;32m--> 626\u001b[0m torch\u001b[38;5;241m.\u001b[39mautograd\u001b[38;5;241m.\u001b[39mbackward(\n\u001b[0;32m    627\u001b[0m     \u001b[38;5;28mself\u001b[39m, gradient, retain_graph, create_graph, inputs\u001b[38;5;241m=\u001b[39minputs\n\u001b[0;32m    628\u001b[0m )\n",
      "File \u001b[1;32m~\\anaconda3\\Lib\\site-packages\\torch\\autograd\\__init__.py:347\u001b[0m, in \u001b[0;36mbackward\u001b[1;34m(tensors, grad_tensors, retain_graph, create_graph, grad_variables, inputs)\u001b[0m\n\u001b[0;32m    342\u001b[0m     retain_graph \u001b[38;5;241m=\u001b[39m create_graph\n\u001b[0;32m    344\u001b[0m \u001b[38;5;66;03m# The reason we repeat the same comment below is that\u001b[39;00m\n\u001b[0;32m    345\u001b[0m \u001b[38;5;66;03m# some Python versions print out the first line of a multi-line function\u001b[39;00m\n\u001b[0;32m    346\u001b[0m \u001b[38;5;66;03m# calls in the traceback and some print out the last line\u001b[39;00m\n\u001b[1;32m--> 347\u001b[0m _engine_run_backward(\n\u001b[0;32m    348\u001b[0m     tensors,\n\u001b[0;32m    349\u001b[0m     grad_tensors_,\n\u001b[0;32m    350\u001b[0m     retain_graph,\n\u001b[0;32m    351\u001b[0m     create_graph,\n\u001b[0;32m    352\u001b[0m     inputs,\n\u001b[0;32m    353\u001b[0m     allow_unreachable\u001b[38;5;241m=\u001b[39m\u001b[38;5;28;01mTrue\u001b[39;00m,\n\u001b[0;32m    354\u001b[0m     accumulate_grad\u001b[38;5;241m=\u001b[39m\u001b[38;5;28;01mTrue\u001b[39;00m,\n\u001b[0;32m    355\u001b[0m )\n",
      "File \u001b[1;32m~\\anaconda3\\Lib\\site-packages\\torch\\autograd\\graph.py:823\u001b[0m, in \u001b[0;36m_engine_run_backward\u001b[1;34m(t_outputs, *args, **kwargs)\u001b[0m\n\u001b[0;32m    821\u001b[0m     unregister_hooks \u001b[38;5;241m=\u001b[39m _register_logging_hooks_on_whole_graph(t_outputs)\n\u001b[0;32m    822\u001b[0m \u001b[38;5;28;01mtry\u001b[39;00m:\n\u001b[1;32m--> 823\u001b[0m     \u001b[38;5;28;01mreturn\u001b[39;00m Variable\u001b[38;5;241m.\u001b[39m_execution_engine\u001b[38;5;241m.\u001b[39mrun_backward(  \u001b[38;5;66;03m# Calls into the C++ engine to run the backward pass\u001b[39;00m\n\u001b[0;32m    824\u001b[0m         t_outputs, \u001b[38;5;241m*\u001b[39margs, \u001b[38;5;241m*\u001b[39m\u001b[38;5;241m*\u001b[39mkwargs\n\u001b[0;32m    825\u001b[0m     )  \u001b[38;5;66;03m# Calls into the C++ engine to run the backward pass\u001b[39;00m\n\u001b[0;32m    826\u001b[0m \u001b[38;5;28;01mfinally\u001b[39;00m:\n\u001b[0;32m    827\u001b[0m     \u001b[38;5;28;01mif\u001b[39;00m attach_logging_hooks:\n",
      "\u001b[1;31mKeyboardInterrupt\u001b[0m: "
     ]
    }
   ],
   "source": [
    "\n",
    "# 9. Main\n",
    "if __name__ == '__main__':\n",
    "    device = torch.device('cuda' if torch.cuda.is_available() else 'cpu')\n",
    "\n",
    "    print(\"Loading labels...\")\n",
    "    shape_labels = load_shape_labels(SHAPE_PATH)\n",
    "    fabric_labels = load_triplet_labels(FABRIC_PATH)\n",
    "    color_labels = load_triplet_labels(PATTERN_PATH)\n",
    "\n",
    "    transform = transforms.Compose([\n",
    "        transforms.Resize((256, 192)),\n",
    "        transforms.ToTensor(),\n",
    "        transforms.Normalize(mean=[0.5, 0.5, 0.5], std=[0.5, 0.5, 0.5])\n",
    "    ])\n",
    "\n",
    "    print(\"Creating dataset...\")\n",
    "    full_dataset = FashionDataset(IMG_DIR, SEGM_DIR, shape_labels, fabric_labels, color_labels, transform)\n",
    "    train_size = int(0.9 * len(full_dataset))\n",
    "    test_size = len(full_dataset) - train_size\n",
    "    train_dataset, test_dataset = random_split(full_dataset, [train_size, test_size])\n",
    "\n",
    "    train_loader = DataLoader(train_dataset, batch_size=8, shuffle=True)\n",
    "    test_loader = DataLoader(test_dataset, batch_size=8, shuffle=False)\n",
    "\n",
    "    print(f\"Total samples: {len(full_dataset)}, Train: {len(train_dataset)}, Test: {len(test_dataset)}\")\n",
    "\n",
    "    model = FashionRecognitionModel().to(device)\n",
    "    optimizer = torch.optim.Adam(model.parameters(), lr=1e-4)\n",
    "\n",
    "    for epoch in range(5):\n",
    "        train_model(model, train_loader, optimizer, device)\n",
    "        evaluate_model(model, test_loader, device)\n",
    "\n",
    "    print(\"Saving model...\")\n",
    "    save_model(model)\n",
    "    print(\"Model saved.\")\n"
   ]
  },
  {
   "cell_type": "code",
   "execution_count": null,
   "id": "4d8264da-bb82-4ba9-84c1-d50f5f472902",
   "metadata": {},
   "outputs": [],
   "source": []
  }
 ],
 "metadata": {
  "kernelspec": {
   "display_name": "Python [conda env:base] *",
   "language": "python",
   "name": "conda-base-py"
  },
  "language_info": {
   "codemirror_mode": {
    "name": "ipython",
    "version": 3
   },
   "file_extension": ".py",
   "mimetype": "text/x-python",
   "name": "python",
   "nbconvert_exporter": "python",
   "pygments_lexer": "ipython3",
   "version": "3.12.3"
  }
 },
 "nbformat": 4,
 "nbformat_minor": 5
}
