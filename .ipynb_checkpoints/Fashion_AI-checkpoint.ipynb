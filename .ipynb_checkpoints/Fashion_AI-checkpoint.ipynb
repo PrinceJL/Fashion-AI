{
 "cells": [
  {
   "cell_type": "code",
   "execution_count": 1,
   "id": "960f10c6-b518-44fb-8ec7-96a9b5670376",
   "metadata": {},
   "outputs": [],
   "source": [
    "# Import necessary libraries\n",
    "import os                       # Operating system interface for file operations\n",
    "import numpy as np              # Numerical computing library\n",
    "from PIL import Image           # Python Imaging Library for image processing\n",
    "from tqdm import tqdm           # Progress bar utility for loops\n",
    "from sklearn.model_selection import train_test_split  # For splitting data into train/test sets\n",
    "\n",
    "# Import TensorFlow and Keras components\n",
    "import tensorflow as tf         # Machine learning framework\n",
    "from tensorflow.keras.models import Sequential  # For creating sequential neural network models\n",
    "from tensorflow.keras.layers import Conv2D, MaxPooling2D, Flatten, Dense  # Neural network layer types\n",
    "from tensorflow.keras.optimizers import Adam    # Optimization algorithm for training"
   ]
  },
  {
   "cell_type": "code",
   "execution_count": 2,
   "id": "df4ee70f-070b-4c9d-9bc7-572da98cf6b7",
   "metadata": {},
   "outputs": [],
   "source": [
    "# Define the save directory for models, data, and logs\n",
    "save_dir = \"./fashion_ai_model_data\"  # Set this to a folder on your local machine\n",
    "os.makedirs(save_dir, exist_ok=True)\n",
    "\n",
    "# Path to your dataset\n",
    "image_dir = \"DeepFashionData/images\"  # Change this to your actual image folder path\n",
    "shape_labels_path = \"DeepFashionData/labels/shape/shape_anno_all.txt\"  # Change this to your shape labels file path"
   ]
  },
  {
   "cell_type": "code",
   "execution_count": 5,
   "id": "575c1d06-7a17-4c03-8c13-c52d9131c11e",
   "metadata": {},
   "outputs": [
    {
     "ename": "FileNotFoundError",
     "evalue": "[Errno 2] No such file or directory: '/path/to/your/shape_labels.txt'",
     "output_type": "error",
     "traceback": [
      "\u001b[1;31m---------------------------------------------------------------------------\u001b[0m",
      "\u001b[1;31mFileNotFoundError\u001b[0m                         Traceback (most recent call last)",
      "Cell \u001b[1;32mIn[5], line 3\u001b[0m\n\u001b[0;32m      1\u001b[0m \u001b[38;5;66;03m# Load shape labels\u001b[39;00m\n\u001b[0;32m      2\u001b[0m shape_labels \u001b[38;5;241m=\u001b[39m {}\n\u001b[1;32m----> 3\u001b[0m \u001b[38;5;28;01mwith\u001b[39;00m \u001b[38;5;28mopen\u001b[39m(shape_labels_path) \u001b[38;5;28;01mas\u001b[39;00m f:\n\u001b[0;32m      4\u001b[0m     \u001b[38;5;28;01mfor\u001b[39;00m line \u001b[38;5;129;01min\u001b[39;00m f:\n\u001b[0;32m      5\u001b[0m         parts \u001b[38;5;241m=\u001b[39m line\u001b[38;5;241m.\u001b[39mstrip()\u001b[38;5;241m.\u001b[39msplit()\n",
      "File \u001b[1;32m~\\anaconda3\\Lib\\site-packages\\IPython\\core\\interactiveshell.py:324\u001b[0m, in \u001b[0;36m_modified_open\u001b[1;34m(file, *args, **kwargs)\u001b[0m\n\u001b[0;32m    317\u001b[0m \u001b[38;5;28;01mif\u001b[39;00m file \u001b[38;5;129;01min\u001b[39;00m {\u001b[38;5;241m0\u001b[39m, \u001b[38;5;241m1\u001b[39m, \u001b[38;5;241m2\u001b[39m}:\n\u001b[0;32m    318\u001b[0m     \u001b[38;5;28;01mraise\u001b[39;00m \u001b[38;5;167;01mValueError\u001b[39;00m(\n\u001b[0;32m    319\u001b[0m         \u001b[38;5;124mf\u001b[39m\u001b[38;5;124m\"\u001b[39m\u001b[38;5;124mIPython won\u001b[39m\u001b[38;5;124m'\u001b[39m\u001b[38;5;124mt let you open fd=\u001b[39m\u001b[38;5;132;01m{\u001b[39;00mfile\u001b[38;5;132;01m}\u001b[39;00m\u001b[38;5;124m by default \u001b[39m\u001b[38;5;124m\"\u001b[39m\n\u001b[0;32m    320\u001b[0m         \u001b[38;5;124m\"\u001b[39m\u001b[38;5;124mas it is likely to crash IPython. If you know what you are doing, \u001b[39m\u001b[38;5;124m\"\u001b[39m\n\u001b[0;32m    321\u001b[0m         \u001b[38;5;124m\"\u001b[39m\u001b[38;5;124myou can use builtins\u001b[39m\u001b[38;5;124m'\u001b[39m\u001b[38;5;124m open.\u001b[39m\u001b[38;5;124m\"\u001b[39m\n\u001b[0;32m    322\u001b[0m     )\n\u001b[1;32m--> 324\u001b[0m \u001b[38;5;28;01mreturn\u001b[39;00m io_open(file, \u001b[38;5;241m*\u001b[39margs, \u001b[38;5;241m*\u001b[39m\u001b[38;5;241m*\u001b[39mkwargs)\n",
      "\u001b[1;31mFileNotFoundError\u001b[0m: [Errno 2] No such file or directory: '/path/to/your/shape_labels.txt'"
     ]
    }
   ],
   "source": [
    "# Load shape labels\n",
    "shape_labels = {}\n",
    "with open(shape_labels_path) as f:\n",
    "    for line in f:\n",
    "        parts = line.strip().split()\n",
    "        img_name = parts[0]\n",
    "        shape_labels[img_name] = list(map(int, parts[1:]))\n",
    "\n",
    "# Define the target size for resizing images\n",
    "target_size = (224, 224)"
   ]
  },
  {
   "cell_type": "code",
   "execution_count": null,
   "id": "73616817-b2ff-4550-af72-e280f136179c",
   "metadata": {},
   "outputs": [],
   "source": []
  }
 ],
 "metadata": {
  "kernelspec": {
   "display_name": "Python [conda env:base] *",
   "language": "python",
   "name": "conda-base-py"
  },
  "language_info": {
   "codemirror_mode": {
    "name": "ipython",
    "version": 3
   },
   "file_extension": ".py",
   "mimetype": "text/x-python",
   "name": "python",
   "nbconvert_exporter": "python",
   "pygments_lexer": "ipython3",
   "version": "3.12.3"
  }
 },
 "nbformat": 4,
 "nbformat_minor": 5
}
